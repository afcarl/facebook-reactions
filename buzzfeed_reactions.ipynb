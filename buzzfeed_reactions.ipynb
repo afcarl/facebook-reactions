{
 "cells": [
  {
   "cell_type": "markdown",
   "metadata": {},
   "source": [
    "# Buzzfeed Data Pairs Matrix Code\n",
    "\n",
    "By Max Woolf (http://minimaxir.com)\n",
    "\n",
    "This notebook is the complement to my blog post [Facebook Reactions and the Problem With Quantifying Likes Differently](http://minimaxir.com/2016/02/facebook-reactions/).\n",
    "\n",
    "*This notebook is licensed under the MIT License. If you use the code or data visualization designs contained within this notebook, it would be greatly appreciated if proper attribution is given back to this notebook and/or myself. Thanks! :)*"
   ]
  },
  {
   "cell_type": "code",
   "execution_count": 1,
   "metadata": {
    "collapsed": false
   },
   "outputs": [
    {
     "name": "stderr",
     "output_type": "stream",
     "text": [
      "\n",
      "Attaching package: ‘dplyr’\n",
      "\n",
      "The following objects are masked from ‘package:stats’:\n",
      "\n",
      "    filter, lag\n",
      "\n",
      "The following objects are masked from ‘package:base’:\n",
      "\n",
      "    intersect, setdiff, setequal, union\n",
      "\n",
      "Registering fonts with R\n",
      "\n",
      "Attaching package: ‘scales’\n",
      "\n",
      "The following objects are masked from ‘package:readr’:\n",
      "\n",
      "    col_factor, col_numeric\n",
      "\n",
      "\n",
      "Attaching package: ‘GGally’\n",
      "\n",
      "The following object is masked from ‘package:dplyr’:\n",
      "\n",
      "    nasa\n",
      "\n"
     ]
    },
    {
     "data": {
      "text/plain": [
       "R version 3.2.3 (2015-12-10)\n",
       "Platform: x86_64-apple-darwin13.4.0 (64-bit)\n",
       "Running under: OS X 10.11.3 (El Capitan)\n",
       "\n",
       "locale:\n",
       "[1] en_US.UTF-8/en_US.UTF-8/en_US.UTF-8/C/en_US.UTF-8/en_US.UTF-8\n",
       "\n",
       "attached base packages:\n",
       "[1] grid      stats     graphics  grDevices utils     datasets  methods  \n",
       "[8] base     \n",
       "\n",
       "other attached packages:\n",
       "[1] GGally_1.0.1       stringr_1.0.0      digest_0.6.8       RColorBrewer_1.1-2\n",
       "[5] scales_0.3.0       extrafont_0.17     ggplot2_2.0.0      dplyr_0.4.3       \n",
       "[9] readr_0.1.1       \n",
       "\n",
       "loaded via a namespace (and not attached):\n",
       " [1] Rcpp_0.12.1      Rttf2pt1_1.3.3   magrittr_1.5     munsell_0.4.2   \n",
       " [5] uuid_0.1-2       colorspace_1.2-6 R6_2.1.1         plyr_1.8.3      \n",
       " [9] tools_3.2.3      parallel_3.2.3   gtable_0.1.2     DBI_0.3.1       \n",
       "[13] extrafontdb_1.0  assertthat_0.1   IRdisplay_0.3    repr_0.4        \n",
       "[17] base64enc_0.1-3  IRkernel_0.5     evaluate_0.8     rzmq_0.7.7      \n",
       "[21] stringi_0.5-5    reshape_0.8.5    jsonlite_0.9.19 "
      ]
     },
     "execution_count": 1,
     "metadata": {},
     "output_type": "execute_result"
    }
   ],
   "source": [
    "options(warn = -1)\n",
    "\n",
    "# IMPORTANT: This assumes that all packages in \"Rstart.R\" are installed,\n",
    "# and the fonts \"Source Sans Pro\" and \"Open Sans Condensed Bold\" are installed\n",
    "# via extrafont. If ggplot2 charts fail to render, you may need to change/remove the theme call.\n",
    "\n",
    "source(\"Rstart.R\")\n",
    "library(GGally) # ggpairs\n",
    "\n",
    "sessionInfo()"
   ]
  },
  {
   "cell_type": "code",
   "execution_count": 2,
   "metadata": {
    "collapsed": false
   },
   "outputs": [
    {
     "name": "stdout",
     "output_type": "stream",
     "text": [
      "Source: local data frame [10,388 x 22]\n",
      "\n",
      "                                                           title\n",
      "                                                           (chr)\n",
      "1                        How Well Do You Know Your Banned Books?\n",
      "2  16 Things F. Scott Fitzgerald Doesn't Want You To Worry About\n",
      "3           Watch Nick And Amy's Fatal Attraction In \"Gone Girl\"\n",
      "4  Alison Bechdel Is The Ultimate Genius \"Dyke To Watch Out For\"\n",
      "5                      16 Reasons You'd Probably Die At Hogwarts\n",
      "6                  19 Banned Books If They Were Made Appropriate\n",
      "7                              \"Zelda's Dreams,\" By James Franco\n",
      "8                        How Scandalous Is Your Reading History?\n",
      "9                    \"Gone Girl\" Is Now A Sleek But Hollow Movie\n",
      "10                 17 Things English Majors Are Tired Of Hearing\n",
      "..                                                           ...\n",
      "Variables not shown: url (chr), author (chr), date (date), category (chr),\n",
      "  special (chr), responses (int), num_fb_shares (int), num_tweets (int),\n",
      "  num_fb_comments (int), love (int), yaaass (int), helpful (int), omg (int),\n",
      "  lol (int), cute (int), win (int), wtf (int), fail (int), trashy (int), ew\n",
      "  (int), hate (int)\n"
     ]
    }
   ],
   "source": [
    "df <- read_csv(\"buzzfeed_data_social_10k.csv\")\n",
    "\n",
    "print(df)"
   ]
  },
  {
   "cell_type": "markdown",
   "metadata": {},
   "source": [
    "Select only the columns with reaction data, and get spot correlations."
   ]
  },
  {
   "cell_type": "code",
   "execution_count": 8,
   "metadata": {
    "collapsed": false
   },
   "outputs": [
    {
     "name": "stdout",
     "output_type": "stream",
     "text": [
      "Source: local data frame [9,883 x 12]\n",
      "\n",
      "    love yaaass helpful   omg   lol  cute   win   wtf  fail trashy    ew  hate\n",
      "   (int)  (int)   (int) (int) (int) (int) (int) (int) (int)  (int) (int) (int)\n",
      "1     31      0       3     7     1     1     3     5     4      0     0     1\n",
      "2    110      0       0     2     9    17    18     7     0      1     0     0\n",
      "3      5      0       0     0     0     0     2     0     0      0     0     0\n",
      "4     16      0       0     0     0     0     1     0     0      0     0     0\n",
      "5     72      0       0     2    25     1     4     0     4      0     0     0\n",
      "6     44      7       0     4    20     1     8     3     7      1     0     0\n",
      "7     25      0       0     0     0     0     0     7     2      0     0     0\n",
      "8    139      2       1     5    10     1    20     1     0      2     0     1\n",
      "9     19      0       0     2     2     0     1     0     0      0     0     0\n",
      "10   119     23       2     3    22     1    25     0     1      0     0     0\n",
      "..   ...    ...     ...   ...   ...   ...   ...   ...   ...    ...   ...   ...\n",
      "              love     yaaass     helpful        omg        lol         cute\n",
      "love    1.00000000 0.46626799 0.124755232 0.68036925 0.47360895  0.629094452\n",
      "yaaass  0.46626799 1.00000000 0.175511580 0.35403737 0.26705946  0.096387912\n",
      "helpful 0.12475523 0.17551158 1.000000000 0.04352179 0.01926325  0.008081270\n",
      "omg     0.68036925 0.35403737 0.043521787 1.00000000 0.38471634  0.539838706\n",
      "lol     0.47360895 0.26705946 0.019263247 0.38471634 1.00000000  0.305064425\n",
      "cute    0.62909445 0.09638791 0.008081270 0.53983871 0.30506443  1.000000000\n",
      "win     0.83126618 0.45288311 0.114922581 0.59319268 0.43868351  0.523278287\n",
      "wtf     0.09907593 0.05272187 0.022267654 0.31346725 0.20007750  0.008643063\n",
      "fail    0.07005368 0.07472599 0.021095192 0.18130431 0.17963674 -0.031200420\n",
      "trashy  0.03739368 0.09077292 0.014492817 0.13685420 0.09558570 -0.031452816\n",
      "ew      0.05038921 0.10098157 0.009602044 0.20792642 0.11147785 -0.024514311\n",
      "hate    0.15831206 0.02737651 0.015482722 0.27294572 0.05448569  0.007341387\n",
      "               win         wtf        fail      trashy           ew        hate\n",
      "love    0.83126618 0.099075927  0.07005368  0.03739368  0.050389209 0.158312061\n",
      "yaaass  0.45288311 0.052721871  0.07472599  0.09077292  0.100981567 0.027376513\n",
      "helpful 0.11492258 0.022267654  0.02109519  0.01449282  0.009602044 0.015482722\n",
      "omg     0.59319268 0.313467249  0.18130431  0.13685420  0.207926422 0.272945720\n",
      "lol     0.43868351 0.200077499  0.17963674  0.09558570  0.111477851 0.054485686\n",
      "cute    0.52327829 0.008643063 -0.03120042 -0.03145282 -0.024514311 0.007341387\n",
      "win     1.00000000 0.061382292  0.04877020  0.02347292  0.023725465 0.070561338\n",
      "wtf     0.06138229 1.000000000  0.63592405  0.50851441  0.566388147 0.332060843\n",
      "fail    0.04877020 0.635924055  1.00000000  0.51560199  0.505881072 0.348757439\n",
      "trashy  0.02347292 0.508514410  0.51560199  1.00000000  0.805459962 0.255968387\n",
      "ew      0.02372546 0.566388147  0.50588107  0.80545996  1.000000000 0.255072265\n",
      "hate    0.07056134 0.332060843  0.34875744  0.25596839  0.255072265 1.000000000\n"
     ]
    }
   ],
   "source": [
    "df_reactions <- na.omit(df %>% select(love:hate))\n",
    "\n",
    "print(df_reactions)\n",
    "\n",
    "print(cor(df_reactions))"
   ]
  },
  {
   "cell_type": "markdown",
   "metadata": {},
   "source": [
    "Note that the `helpful` and `trashy` reactions are not used in 2016, so we will not use them.\n",
    "\n",
    "Use `ggpairs` to plot multidimensional data (lower and diag functions adapted from the [GGally package viginette](http://ggobi.github.io/ggally/gh-pages/ggpairs.html); upper correlation function adopted from [Barret Schloerke on GitHub](https://github.com/ggobi/ggally/issues/139))."
   ]
  },
  {
   "cell_type": "code",
   "execution_count": 104,
   "metadata": {
    "collapsed": false
   },
   "outputs": [],
   "source": [
    "pairs_theme <- function (x) {\n",
    "                theme_bw(base_size = 5) +\n",
    "                theme(panel.grid.minor.x = element_blank()) +\n",
    "                theme(panel.grid.minor.y = element_blank())\n",
    "                }\n",
    "\n",
    "\n",
    "gglower <- function(data, mapping, ..., high = \"#c0392b\") {\n",
    "  ggplot(data = data, mapping = mapping) +\n",
    "    geom_bin2d(...) +\n",
    "    scale_x_log10(limits=c(10^0,10^3), breaks=10^(0:3)) +\n",
    "    scale_y_log10(limits=c(10^0,10^3), breaks=10^(0:3)) +\n",
    "    geom_smooth(alpha = 0.5, size = 0.25, color = \"#1a1a1a\", method = \"lm\") +\n",
    "    scale_fill_gradient(low = \"#EEEEEE\", high = high, trans = \"log\") +\n",
    "    pairs_theme()\n",
    "}\n",
    "\n",
    "ggdiag <- function(data, mapping, ..., color = \"#1a1a1a\") {\n",
    "  ggplot(data = data, mapping = mapping) +\n",
    "    geom_density(..., color = color) +\n",
    "    scale_x_log10(limits=c(10^0,10^3), breaks=10^(0:3)) +\n",
    "    pairs_theme()\n",
    "}\n",
    "\n",
    "# From https://github.com/ggobi/ggally/issues/139#issuecomment-176271618\n",
    "\n",
    "ggupper <- function(data, mapping, color = I(\"grey50\"), sizeRange = c(1, 3), ...) {\n",
    "\n",
    "  # get the x and y data to use the other code\n",
    "  x <- eval(mapping$x, data)\n",
    "  y <- eval(mapping$y, data)\n",
    "\n",
    "  ct <- cor.test(x,y)\n",
    "  sig <- symnum(\n",
    "    ct$p.value, corr = FALSE, na = FALSE,\n",
    "    cutpoints = c(0, 0.001, 0.01, 0.05, 0.1, 1),\n",
    "    symbols = c(\"***\", \"**\", \"*\", \".\", \" \")\n",
    "  )\n",
    "\n",
    "  r <- unname(ct$estimate)\n",
    "  rt <- format(r, digits=2)[1]\n",
    "\n",
    "  # since we can't print it to get the strsize, just use the max size range\n",
    "  cex <- max(sizeRange)\n",
    "\n",
    "  # helper function to calculate a useable size\n",
    "  percent_of_range <- function(percent, range) {\n",
    "    percent * diff(range) + min(range, na.rm = TRUE)\n",
    "  }\n",
    "\n",
    "  # plot the cor value\n",
    "  ggally_text(\n",
    "    label = as.character(rt), \n",
    "    mapping = aes(),\n",
    "    xP = 0.5, yP = 0.5, \n",
    "    size = I(percent_of_range(cex * abs(r), sizeRange)),\n",
    "    color = color,\n",
    "    ...\n",
    "  ) + \n",
    "    # add the sig stars\n",
    "    geom_text(\n",
    "      aes_string(\n",
    "        x = 0.8,\n",
    "        y = 0.8\n",
    "      ),\n",
    "      label = sig, \n",
    "      size = I(cex),\n",
    "      color = color,\n",
    "      ...\n",
    "    ) +\n",
    "    pairs_theme() +\n",
    "    theme(panel.grid.major.x = element_blank()) +\n",
    "    theme(panel.grid.major.y = element_blank())\n",
    "          \n",
    "}"
   ]
  },
  {
   "cell_type": "code",
   "execution_count": 105,
   "metadata": {
    "collapsed": false
   },
   "outputs": [
    {
     "data": {
      "text/html": [
       "<strong>pdf:</strong> 2"
      ],
      "text/latex": [
       "\\textbf{pdf:} 2"
      ],
      "text/markdown": [
       "**pdf:** 2"
      ],
      "text/plain": [
       "pdf \n",
       "  2 "
      ]
     },
     "execution_count": 105,
     "metadata": {},
     "output_type": "execute_result"
    }
   ],
   "source": [
    "pos_color <- \"#27ae60\"\n",
    "\n",
    "plot <- ggpairs(df_reactions, columns = c(\"love\", \"yaaass\", \"omg\", \"lol\", \"cute\", \"win\"),\n",
    "        title = sprintf(\"Pairs Plot of Positive Reaction Counts on %00d BuzzFeed Articles\", nrow(df_reactions)),\n",
    "        upper = list(continuous = wrap(ggupper, color = pos_color)), \n",
    "        lower = list(continuous = wrap(gglower, high = pos_color)),\n",
    "        diag = list(continuous = wrap(ggdiag, color = pos_color))) +\n",
    "        theme(title = element_text(size=10))\n",
    "\n",
    "png(\"buzzfeed-pos.png\", w=1600, h=1600, res=300)\n",
    "plot\n",
    "dev.off()"
   ]
  },
  {
   "cell_type": "markdown",
   "metadata": {},
   "source": [
    "![](buzzfeed-pos.png)"
   ]
  },
  {
   "cell_type": "code",
   "execution_count": 106,
   "metadata": {
    "collapsed": false
   },
   "outputs": [
    {
     "data": {
      "text/html": [
       "<strong>pdf:</strong> 2"
      ],
      "text/latex": [
       "\\textbf{pdf:} 2"
      ],
      "text/markdown": [
       "**pdf:** 2"
      ],
      "text/plain": [
       "pdf \n",
       "  2 "
      ]
     },
     "execution_count": 106,
     "metadata": {},
     "output_type": "execute_result"
    }
   ],
   "source": [
    "neg_color <- \"#c0392b\"\n",
    "\n",
    "plot <- ggpairs(df_reactions, columns = c(\"love\", \"wtf\", \"fail\", \"ew\", \"hate\"),\n",
    "        title = sprintf(\"Pairs Plot of Love + Negative Reaction Counts on %00d BuzzFeed Articles\", nrow(df_reactions)),\n",
    "        upper = list(continuous = wrap(ggupper, color = neg_color )), \n",
    "        lower = list(continuous = wrap(gglower, high = neg_color)),\n",
    "        diag = list(continuous = wrap(ggdiag, color = neg_color))) +\n",
    "        theme(title = element_text(size=10))\n",
    "\n",
    "png(\"buzzfeed-neg.png\", w=1600, h=1600, res=300)\n",
    "plot\n",
    "dev.off()"
   ]
  },
  {
   "cell_type": "markdown",
   "metadata": {},
   "source": [
    "![](buzzfeed-neg.png)"
   ]
  },
  {
   "cell_type": "markdown",
   "metadata": {},
   "source": [
    "# The MIT License (MIT)\n",
    "\n",
    "Copyright (c) 2016 Max Woolf\n",
    "\n",
    "Permission is hereby granted, free of charge, to any person obtaining a copy of this software and associated documentation files (the \"Software\"), to deal in the Software without restriction, including without limitation the rights to use, copy, modify, merge, publish, distribute, sublicense, and/or sell copies of the Software, and to permit persons to whom the Software is furnished to do so, subject to the following conditions:\n",
    "\n",
    "The above copyright notice and this permission notice shall be included in all copies or substantial portions of the Software.\n",
    "\n",
    "THE SOFTWARE IS PROVIDED \"AS IS\", WITHOUT WARRANTY OF ANY KIND, EXPRESS OR IMPLIED, INCLUDING BUT NOT LIMITED TO THE WARRANTIES OF MERCHANTABILITY, FITNESS FOR A PARTICULAR PURPOSE AND NONINFRINGEMENT. IN NO EVENT SHALL THE AUTHORS OR COPYRIGHT HOLDERS BE LIABLE FOR ANY CLAIM, DAMAGES OR OTHER LIABILITY, WHETHER IN AN ACTION OF CONTRACT, TORT OR OTHERWISE, ARISING FROM, OUT OF OR IN CONNECTION WITH THE SOFTWARE OR THE USE OR OTHER DEALINGS IN THE SOFTWARE."
   ]
  }
 ],
 "metadata": {
  "kernelspec": {
   "display_name": "R",
   "language": "R",
   "name": "ir"
  },
  "language_info": {
   "codemirror_mode": "r",
   "file_extension": ".r",
   "mimetype": "text/x-r-source",
   "name": "R",
   "pygments_lexer": "r",
   "version": "3.2.3"
  }
 },
 "nbformat": 4,
 "nbformat_minor": 0
}
